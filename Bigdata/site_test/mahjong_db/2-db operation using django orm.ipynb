{
 "cells": [
  {
   "cell_type": "code",
   "execution_count": 1,
   "id": "d42ac35f",
   "metadata": {},
   "outputs": [],
   "source": [
    "import os\n",
    "import sys\n",
    "import pandas as pd\n",
    "import argparse\n",
    "from datetime import datetime, timedelta\n",
    "import pathlib\n",
    "\n",
    "# 新增：將上一層目錄加入 sys.path\n",
    "parent_path = pathlib.Path().absolute().parent\n",
    "sys.path.insert(0, str(parent_path))\n",
    "# Setup Django environment\n",
    "os.environ.setdefault('DJANGO_SETTINGS_MODULE', 'website_configs.settings')\n",
    "import django\n",
    "django.setup()\n",
    "# 重要：設定環境變數以允許在 Jupyter 的異步環境中執行同步操作\n",
    "os.environ[\"DJANGO_ALLOW_ASYNC_UNSAFE\"] = \"true\"\n",
    "\n",
    "# Now we can import Django models\n",
    "from app_user_keyword_db.models import NewsData"
   ]
  },
  {
   "cell_type": "code",
   "execution_count": 2,
   "id": "86c1f8da",
   "metadata": {},
   "outputs": [],
   "source": [
    "from django.db.models import Q, Max, F\n",
    "from collections import Counter"
   ]
  },
  {
   "cell_type": "code",
   "execution_count": 3,
   "id": "7477622a",
   "metadata": {},
   "outputs": [],
   "source": [
    "# Searching keywords from \"content\" column\n",
    "# This function now uses database queries instead of pandas\n",
    "def filter_database_fullText(user_keywords, cond, cate, weeks):\n",
    "    # Get the latest date in the database\n",
    "    latest_date = NewsData.objects.aggregate(max_date=Max('date'))['max_date']\n",
    "    \n",
    "    # Calculate start date\n",
    "    start_date = latest_date - timedelta(weeks=weeks)\n",
    "    \n",
    "    # Base query - filter by date range\n",
    "    queryset = NewsData.objects.filter(date__gte=start_date, date__lte=latest_date)\n",
    "    \n",
    "    # Filter by category if not \"全部\"\n",
    "    if cate != \"全部\":\n",
    "        queryset = queryset.filter(category=cate)\n",
    "    \n",
    "    # Filter by keywords based on condition (AND or OR)\n",
    "    if cond == 'and':\n",
    "        # For AND condition, we need all keywords to be present\n",
    "        for kw in user_keywords:\n",
    "            queryset = queryset.filter(content__contains=kw)\n",
    "    elif cond == 'or':\n",
    "        # For OR condition, any keyword can be present\n",
    "        q_objects = Q()\n",
    "        for kw in user_keywords:\n",
    "            q_objects |= Q(content__contains=kw)\n",
    "        queryset = queryset.filter(q_objects)\n",
    "    \n",
    "    return queryset"
   ]
  },
  {
   "cell_type": "code",
   "execution_count": 6,
   "id": "f2c64d20",
   "metadata": {},
   "outputs": [],
   "source": [
    "\n",
    "user_keywords = ['車禍','意外']  # Example keywords\n",
    "cond = 'or'  # Example condition (and/or), \n",
    "cate = '全部'  # Example category (or \"全部\" for all categories)\n",
    "weeks = 4  # Example weeks\n",
    "queryset = filter_database_fullText(user_keywords, cond, cate, weeks)"
   ]
  },
  {
   "cell_type": "code",
   "execution_count": 7,
   "id": "7461b02c",
   "metadata": {},
   "outputs": [
    {
     "name": "stdout",
     "output_type": "stream",
     "text": [
      "台中氣爆各縣市繃緊神經! 啟動百貨消防公安稽查\n",
      "台中氣爆各縣市繃緊神經! 啟動百貨消防公安稽查\n",
      "員警被控路口撞騎士肇逃 警方澄清未發生碰撞\n",
      "慈濟關係企業工安意外成植物人 家屬陳情盼負起長照責任\n",
      "中崙工業區電鍍廠發生工安意外 11人吸入性嗆傷送醫\n",
      "新／豪宅建案工安意外！工人自高處墜落 送醫搶救中\n",
      "台中工安意外！ 6工人清洗汙水槽 ＂疑缺氧＂有人摔落槽體\n",
      "苗栗三義工安意外 1名工人被埋3米深邊坡\n",
      "烤漆工廠工安意外！ 洗3尺深污水槽釀6人送醫｜#鏡新聞\n",
      "快訊／台南電鍍廠工安意外！「聚氯化鋁混到漂白水」毒暈11人 1男不治\n",
      "疑為人員疏失致災 台南電鍍廠工安意外釀1死10傷\n",
      "台中市工安意外！ 25歲工人墜落鋼架 頭部重創送醫\n",
      "長耕國際烤漆廠工安意外 「放流槽清淤」6人暈倒\n",
      "高雄阿蓮工地意外 廢鐵砸頭釀1死 (圖)\n",
      "台南驚悚工安意外！工人修遮光罩「6樓高墜下」雙腿變形\n",
      "苗栗三義工安意外 1名工人被埋3米深邊坡\n",
      "台中烤漆廠工安意外！6工人受困污水槽「2人昏迷」 疑一氧化碳超標釀禍\n",
      "快訊／台中烤漆廠驚傳工安意外！6工人清洗槽體出狀況…2人昏迷送醫\n",
      "台塑工安意外1人炸成「碎片」！原定2天後家庭旅行\n",
      "高雄阿蓮區工地意外事故 一名女工人不幸身亡\n",
      "烤漆廠工安意外 疑缺氧6人不適送醫\n",
      "烤漆廠工安意外 疑缺氧6人不適送醫\n",
      "快訊／北市錦州街新建案工安意外 55歲男墜樓送醫\n"
     ]
    }
   ],
   "source": [
    "for news in queryset:\n",
    "    print(news.title)"
   ]
  },
  {
   "cell_type": "code",
   "execution_count": 8,
   "id": "4e276c32",
   "metadata": {},
   "outputs": [],
   "source": [
    "# Limit to k results and get specific fields\n",
    "news_items = queryset.values('category', 'title', 'link', 'photo_link')[:3]"
   ]
  },
  {
   "cell_type": "code",
   "execution_count": 9,
   "id": "16648dab",
   "metadata": {},
   "outputs": [
    {
     "data": {
      "text/plain": [
       "<QuerySet [{'category': '北市事故', 'title': '台中氣爆各縣市繃緊神經! 啟動百貨消防公安稽查', 'link': 'https://tw.news.yahoo.com/%E5%8F%B0%E4%B8%AD%E6%B0%A3%E7%88%86%E5%90%84%E7%B8%A3%E5%B8%82%E7%B9%83%E7%B7%8A%E7%A5%9E%E7%B6%93-%E5%95%9F%E5%8B%95%E7%99%BE%E8%B2%A8%E6%B6%88%E9%98%B2%E5%85%AC%E5%AE%89%E7%A8%BD%E6%9F%A5-102236029.html', 'photo_link': 'https://s.yimg.com/lo/api/res/1.2/PB1VutNL9J0E987CcpPewA--~A/YXBwaWQ9dHdhYnVuZXdzO3c9MjIwO2g9MTI4O2ZpPWZpbGw7cHhvZmY9NTA7cHlvZmY9MQ--/https://media.zenfs.com/ko/ftvn.com.tw/3047d4e7a9287210171bd11a6e7fd0f8'}, {'category': '北市事故', 'title': '台中氣爆各縣市繃緊神經! 啟動百貨消防公安稽查', 'link': 'https://tw.news.yahoo.com/%E5%8F%B0%E4%B8%AD%E6%B0%A3%E7%88%86%E5%90%84%E7%B8%A3%E5%B8%82%E7%B9%83%E7%B7%8A%E7%A5%9E%E7%B6%93-%E5%95%9F%E5%8B%95%E7%99%BE%E8%B2%A8%E6%B6%88%E9%98%B2%E5%85%AC%E5%AE%89%E7%A8%BD%E6%9F%A5-105503587.html', 'photo_link': 'https://s.yimg.com/lo/api/res/1.2/f1ukmfI5hIBBnSNPA02Dtw--~A/YXBwaWQ9dHdhYnVuZXdzO3c9MjIwO2g9MTI4O2ZpPWZpbGw7cHhvZmY9NTA7cHlvZmY9MQ--/https://media.zenfs.com/en/video.asiaftv.com/3047d4e7a9287210171bd11a6e7fd0f8'}, {'category': '北市事故', 'title': '員警被控路口撞騎士肇逃 警方澄清未發生碰撞', 'link': 'https://tw.news.yahoo.com/%E5%93%A1%E8%AD%A6%E8%A2%AB%E6%8E%A7%E8%B7%AF%E5%8F%A3%E6%92%9E%E9%A8%8E%E5%A3%AB%E8%82%87%E9%80%83-%E8%AD%A6%E6%96%B9%E6%BE%84%E6%B8%85%E6%9C%AA%E7%99%BC%E7%94%9F%E7%A2%B0%E6%92%9E-051142644.html', 'photo_link': 'https://s.yimg.com/lo/api/res/1.2/LpRtfuNvbDv7N2bi9xPQEA--~A/YXBwaWQ9dHdhYnVuZXdzO3c9MjIwO2g9MTI4O2ZpPWZpbGw7cHhvZmY9NTA7cHlvZmY9MQ--/https://media.zenfs.com/ko/news_pts_org_tw_599/f1e8fc1e1404e1e6ab01e85b58fa7920'}]>"
      ]
     },
     "execution_count": 9,
     "metadata": {},
     "output_type": "execute_result"
    }
   ],
   "source": [
    "news_items"
   ]
  },
  {
   "cell_type": "code",
   "execution_count": 10,
   "id": "cb2d9d28",
   "metadata": {},
   "outputs": [],
   "source": [
    "dates = list(queryset.values_list('date', flat=True))"
   ]
  },
  {
   "cell_type": "code",
   "execution_count": 12,
   "id": "bea8f33c",
   "metadata": {},
   "outputs": [
    {
     "data": {
      "text/plain": [
       "<QuerySet [{'date': datetime.date(2025, 4, 4)}, {'date': datetime.date(2025, 4, 4)}, {'date': datetime.date(2025, 4, 4)}, {'date': datetime.date(2025, 4, 4)}, {'date': datetime.date(2025, 4, 4)}, {'date': datetime.date(2025, 4, 4)}, {'date': datetime.date(2025, 4, 4)}, {'date': datetime.date(2025, 4, 4)}, {'date': datetime.date(2025, 4, 4)}, {'date': datetime.date(2025, 4, 4)}]>"
      ]
     },
     "execution_count": 12,
     "metadata": {},
     "output_type": "execute_result"
    }
   ],
   "source": [
    "NewsData.objects.filter(category='北市事故').values('date')"
   ]
  },
  {
   "cell_type": "code",
   "execution_count": null,
   "id": "939d8e5f",
   "metadata": {},
   "outputs": [],
   "source": []
  }
 ],
 "metadata": {
  "kernelspec": {
   "display_name": "base",
   "language": "python",
   "name": "python3"
  },
  "language_info": {
   "codemirror_mode": {
    "name": "ipython",
    "version": 3
   },
   "file_extension": ".py",
   "mimetype": "text/x-python",
   "name": "python",
   "nbconvert_exporter": "python",
   "pygments_lexer": "ipython3",
   "version": "3.12.7"
  }
 },
 "nbformat": 4,
 "nbformat_minor": 5
}
